{
 "cells": [
  {
   "cell_type": "markdown",
   "metadata": {},
   "source": [
    "### -> Run all cells to update the news dataset"
   ]
  },
  {
   "cell_type": "code",
   "execution_count": 22,
   "metadata": {},
   "outputs": [],
   "source": [
    "import pandas as pd"
   ]
  },
  {
   "cell_type": "code",
   "execution_count": 23,
   "metadata": {},
   "outputs": [
    {
     "name": "stderr",
     "output_type": "stream",
     "text": [
      "/tmp/ipykernel_90881/2714900528.py:2: DtypeWarning: Columns (19) have mixed types. Specify dtype option on import or set low_memory=False.\n",
      "  news = pd.read_csv(\"/workspaces/thesis/assets/nefino_news_until_march_30_2024.csv\")\n"
     ]
    }
   ],
   "source": [
    "# news = pd.read_csv(\"/workspaces/thesis/assets/nefino_news_until_feb_08_2024.csv\")\n",
    "news = pd.read_csv(\"/workspaces/thesis/assets/nefino_news_until_march_30_2024.csv\")"
   ]
  },
  {
   "cell_type": "code",
   "execution_count": 25,
   "metadata": {},
   "outputs": [
    {
     "data": {
      "text/plain": [
       "'2024-03-28'"
      ]
     },
     "execution_count": 25,
     "metadata": {},
     "output_type": "execute_result"
    }
   ],
   "source": [
    "# get the latest date\n",
    "latest_date = news[\"date\"].max()\n",
    "latest_date"
   ]
  },
  {
   "cell_type": "code",
   "execution_count": 26,
   "metadata": {},
   "outputs": [
    {
     "name": "stdout",
     "output_type": "stream",
     "text": [
      "Summary but no headline: 2102\n",
      "Summary and headline: 18614\n"
     ]
    }
   ],
   "source": [
    "count_summary_but_no_headline = len(\n",
    "    news[(news[\"headline\"] == \"empty_headline\") & (news[\"summary\"].notnull())]\n",
    ")\n",
    "count_summary_and_headline = len(\n",
    "    news[\n",
    "        (~news[\"headline\"].isin([\"empty_headline\", \"\"]))\n",
    "        & (news[\"headline\"].notnull())\n",
    "        & (news[\"summary\"].notnull())\n",
    "    ]\n",
    ")\n",
    "\n",
    "print(\"Summary but no headline:\", count_summary_but_no_headline)\n",
    "print(\"Summary and headline:\", count_summary_and_headline)\n",
    "\n",
    "# Keep only news with summary\n",
    "news = news[news[\"summary\"].notnull() & (news[\"summary\"] != \"\")]"
   ]
  },
  {
   "cell_type": "code",
   "execution_count": 27,
   "metadata": {},
   "outputs": [],
   "source": [
    "# drop duplicates and null values of summary and headline\n",
    "news = news.drop(\n",
    "    news[\n",
    "        (news[\"duplicate\"] == True)\n",
    "        | (news[\"summary\"].isnull() | news[\"headline\"].isnull())\n",
    "    ].index\n",
    ")\n",
    "\n",
    "# drop unnecessary columns\n",
    "news = news.drop(\n",
    "    columns=[\n",
    "        # secret Nefino columns\n",
    "    ]\n",
    ")"
   ]
  },
  {
   "cell_type": "code",
   "execution_count": 28,
   "metadata": {},
   "outputs": [],
   "source": [
    "# merge columns 3 to 6 into a single column called place_id\n",
    "news = news.assign(\n",
    "    place_id=news[\"local_administrative_unit_id\"].fillna(\"\")\n",
    "    + news[\"country_id\"].fillna(\"\")\n",
    "    + news[\"federal_state_id\"].fillna(\"\")\n",
    "    + news[\"planning_region_id\"].fillna(\"\")\n",
    ")\n",
    "\n",
    "# drop merged columns\n",
    "news = news.drop(\n",
    "    columns=[\n",
    "        \"local_administrative_unit_id\",\n",
    "        \"country_id\",\n",
    "        \"federal_state_id\",\n",
    "        \"planning_region_id\",\n",
    "    ]\n",
    ")"
   ]
  },
  {
   "cell_type": "code",
   "execution_count": 29,
   "metadata": {},
   "outputs": [
    {
     "data": {
      "text/plain": [
       "relevancy_by_ai\n",
       "1    10723\n",
       "3      934\n",
       "2      627\n",
       "4      295\n",
       "Name: count, dtype: int64"
      ]
     },
     "execution_count": 29,
     "metadata": {},
     "output_type": "execute_result"
    }
   ],
   "source": [
    "news[\"relevancy_by_ai\"].value_counts()"
   ]
  },
  {
   "cell_type": "code",
   "execution_count": 30,
   "metadata": {},
   "outputs": [],
   "source": [
    "# drop rows where ai relevancy is not 1 whil1e the editor relevancy is null\n",
    "news = news.drop(\n",
    "    news[\n",
    "        ((news[\"relevancy_by_ai\"] != 1) & (news[\"relevancy_by_editor\"].isnull()))\n",
    "        | (news[\"relevancy_by_editor\"] == 2)\n",
    "    ].index\n",
    ")\n",
    "news = news.drop(columns=[\"relevancy_by_editor\", \"relevancy_by_ai\"])"
   ]
  },
  {
   "cell_type": "code",
   "execution_count": 31,
   "metadata": {},
   "outputs": [],
   "source": [
    "# drop all rows except one if summary field is the same\n",
    "news = news.drop_duplicates(subset=\"summary\", keep=\"first\")"
   ]
  },
  {
   "cell_type": "code",
   "execution_count": 32,
   "metadata": {},
   "outputs": [
    {
     "data": {
      "text/plain": [
       "2243"
      ]
     },
     "execution_count": 32,
     "metadata": {},
     "output_type": "execute_result"
    }
   ],
   "source": [
    "# count the number of place_id which are an emtpy string\n",
    "news[\"place_id\"].value_counts().loc[\"\"]"
   ]
  },
  {
   "cell_type": "code",
   "execution_count": 33,
   "metadata": {},
   "outputs": [],
   "source": [
    "# Sort the news dataframe by place_id\n",
    "news = news.sort_values(by='place_id')\n",
    "\n",
    "# Update the page_ptr_id column\n",
    "news['page_ptr_id'] = range(1, len(news) + 1)\n",
    "news = news.rename(columns={'page_ptr_id': 'news_id'})\n"
   ]
  },
  {
   "cell_type": "code",
   "execution_count": 34,
   "metadata": {},
   "outputs": [],
   "source": [
    "news[news[\"energy_types\"].str.contains(\"SO\")].count()\n",
    "\n",
    "news[\"energy_types\"] = (\n",
    "    news[\"energy_types\"].str.replace(\"SO\", \"SOLAR\").replace(\"WI\", \"WIND\")\n",
    ")\n",
    "\n",
    "# create solar and solar/wind datasets\n",
    "news_solar = news[news[\"energy_types\"].str.contains(\"SO\")]\n",
    "news_solar_wind = news.copy()"
   ]
  },
  {
   "cell_type": "code",
   "execution_count": 35,
   "metadata": {},
   "outputs": [
    {
     "name": "stdout",
     "output_type": "stream",
     "text": [
      "<class 'pandas.core.frame.DataFrame'>\n",
      "Index: 4405 entries, 35231 to 40012\n",
      "Data columns (total 7 columns):\n",
      " #   Column        Non-Null Count  Dtype \n",
      "---  ------        --------------  ----- \n",
      " 0   news_id       4405 non-null   int64 \n",
      " 1   date          4405 non-null   object\n",
      " 2   news_type     4405 non-null   int64 \n",
      " 3   energy_types  4405 non-null   object\n",
      " 4   summary       4405 non-null   object\n",
      " 5   headline      4405 non-null   object\n",
      " 6   place_id      4405 non-null   object\n",
      "dtypes: int64(2), object(5)\n",
      "memory usage: 275.3+ KB\n"
     ]
    }
   ],
   "source": [
    "news_solar.info()"
   ]
  },
  {
   "cell_type": "code",
   "execution_count": 36,
   "metadata": {},
   "outputs": [
    {
     "name": "stdout",
     "output_type": "stream",
     "text": [
      "<class 'pandas.core.frame.DataFrame'>\n",
      "Index: 10571 entries, 35231 to 40012\n",
      "Data columns (total 7 columns):\n",
      " #   Column        Non-Null Count  Dtype \n",
      "---  ------        --------------  ----- \n",
      " 0   news_id       10571 non-null  int64 \n",
      " 1   date          10571 non-null  object\n",
      " 2   news_type     10571 non-null  int64 \n",
      " 3   energy_types  10571 non-null  object\n",
      " 4   summary       10571 non-null  object\n",
      " 5   headline      10571 non-null  object\n",
      " 6   place_id      10571 non-null  object\n",
      "dtypes: int64(2), object(5)\n",
      "memory usage: 660.7+ KB\n"
     ]
    }
   ],
   "source": [
    "news_solar_wind.info()"
   ]
  },
  {
   "cell_type": "code",
   "execution_count": 37,
   "metadata": {},
   "outputs": [
    {
     "data": {
      "text/html": [
       "<div>\n",
       "<style scoped>\n",
       "    .dataframe tbody tr th:only-of-type {\n",
       "        vertical-align: middle;\n",
       "    }\n",
       "\n",
       "    .dataframe tbody tr th {\n",
       "        vertical-align: top;\n",
       "    }\n",
       "\n",
       "    .dataframe thead th {\n",
       "        text-align: right;\n",
       "    }\n",
       "</style>\n",
       "<table border=\"1\" class=\"dataframe\">\n",
       "  <thead>\n",
       "    <tr style=\"text-align: right;\">\n",
       "      <th></th>\n",
       "      <th>news_id</th>\n",
       "      <th>date</th>\n",
       "      <th>news_type</th>\n",
       "      <th>energy_types</th>\n",
       "      <th>summary</th>\n",
       "      <th>headline</th>\n",
       "      <th>place_id</th>\n",
       "    </tr>\n",
       "  </thead>\n",
       "  <tbody>\n",
       "    <tr>\n",
       "      <th>35231</th>\n",
       "      <td>1</td>\n",
       "      <td>2023-12-22</td>\n",
       "      <td>3</td>\n",
       "      <td>{SOLAR}</td>\n",
       "      <td>Der Energiekonzern Vattenfall plant den Bau vo...</td>\n",
       "      <td>Stadt Nauen und Gemeinde Silberstedt: Vattenfa...</td>\n",
       "      <td></td>\n",
       "    </tr>\n",
       "    <tr>\n",
       "      <th>34990</th>\n",
       "      <td>2</td>\n",
       "      <td>2023-12-20</td>\n",
       "      <td>2</td>\n",
       "      <td>{WI}</td>\n",
       "      <td>Die Landesregierung von Schleswig-Holstein hat...</td>\n",
       "      <td>Schleswig-Holstein: Landesregierung plant Erhö...</td>\n",
       "      <td></td>\n",
       "    </tr>\n",
       "  </tbody>\n",
       "</table>\n",
       "</div>"
      ],
      "text/plain": [
       "       news_id        date  news_type energy_types  \\\n",
       "35231        1  2023-12-22          3      {SOLAR}   \n",
       "34990        2  2023-12-20          2         {WI}   \n",
       "\n",
       "                                                 summary  \\\n",
       "35231  Der Energiekonzern Vattenfall plant den Bau vo...   \n",
       "34990  Die Landesregierung von Schleswig-Holstein hat...   \n",
       "\n",
       "                                                headline place_id  \n",
       "35231  Stadt Nauen und Gemeinde Silberstedt: Vattenfa...           \n",
       "34990  Schleswig-Holstein: Landesregierung plant Erhö...           "
      ]
     },
     "execution_count": 37,
     "metadata": {},
     "output_type": "execute_result"
    }
   ],
   "source": [
    "news_solar_wind.head(2)"
   ]
  },
  {
   "cell_type": "code",
   "execution_count": 38,
   "metadata": {},
   "outputs": [],
   "source": [
    "# news[news['place_id'] == ''].count()"
   ]
  },
  {
   "cell_type": "code",
   "execution_count": 39,
   "metadata": {},
   "outputs": [],
   "source": [
    "# export to csv\n",
    "news_solar.to_csv(\n",
    "    '/workspaces/thesis/assets/nefino_solar_news_until_{}_cleaned.csv'.format(latest_date.replace('-', '_')),\n",
    "    index=False,\n",
    ")\n",
    "\n",
    "news_solar_wind.to_csv(\n",
    "    '/workspaces/thesis/assets/nefino_solar_and_wind_news_until_{}_cleaned.csv'.format(latest_date.replace('-', '_')),\n",
    "    index=False,\n",
    ")"
   ]
  },
  {
   "cell_type": "code",
   "execution_count": 41,
   "metadata": {},
   "outputs": [
    {
     "data": {
      "text/plain": [
       "news_id         2243\n",
       "date            2243\n",
       "news_type       2243\n",
       "energy_types    2243\n",
       "summary         2243\n",
       "headline        2243\n",
       "place_id        2243\n",
       "dtype: int64"
      ]
     },
     "execution_count": 41,
     "metadata": {},
     "output_type": "execute_result"
    }
   ],
   "source": [
    "# count number of rows with no place_id\n",
    "news_solar[news_solar[\"place_id\"] == \"\"].count()\n",
    "\n",
    "news_solar_wind[news_solar_wind[\"place_id\"] == \"\"].count()"
   ]
  },
  {
   "cell_type": "code",
   "execution_count": null,
   "metadata": {},
   "outputs": [],
   "source": []
  }
 ],
 "metadata": {
  "kernelspec": {
   "display_name": "thesis",
   "language": "python",
   "name": "python3"
  },
  "language_info": {
   "codemirror_mode": {
    "name": "ipython",
    "version": 3
   },
   "file_extension": ".py",
   "mimetype": "text/x-python",
   "name": "python",
   "nbconvert_exporter": "python",
   "pygments_lexer": "ipython3",
   "version": "3.11.7"
  },
  "orig_nbformat": 4,
  "vscode": {
   "interpreter": {
    "hash": "38c9aeff94b44c94334578526c06399c41bc948737fc44e5ddf3ba9fd3a83378"
   }
  }
 },
 "nbformat": 4,
 "nbformat_minor": 2
}
