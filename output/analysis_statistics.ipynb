{
 "cells": [
  {
   "cell_type": "markdown",
   "metadata": {},
   "source": [
    "This Notebook analyzes the Feature Importance using the Decrease in Impurity (MID) method by training a Random Forest Model on the Analyses Results."
   ]
  },
  {
   "cell_type": "code",
   "execution_count": 2,
   "metadata": {},
   "outputs": [],
   "source": [
    "import pandas as pd\n",
    "\n",
    "analysis_file_path = \"/workspaces/thesis/output/analysis_results.csv\"\n",
    "analysis_df: pd.DataFrame = pd.read_csv(analysis_file_path)"
   ]
  },
  {
   "cell_type": "code",
   "execution_count": 3,
   "metadata": {},
   "outputs": [
    {
     "name": "stdout",
     "output_type": "stream",
     "text": [
      "<class 'pandas.core.frame.DataFrame'>\n",
      "RangeIndex: 123 entries, 0 to 122\n",
      "Data columns (total 11 columns):\n",
      " #   Column      Non-Null Count  Dtype \n",
      "---  ------      --------------  ----- \n",
      " 0   Unnamed: 0  123 non-null    int64 \n",
      " 1   ID          123 non-null    object\n",
      " 2   Name        123 non-null    object\n",
      " 3   Place Type  123 non-null    object\n",
      " 4   Attitude    123 non-null    object\n",
      " 5   Thoughts    123 non-null    object\n",
      " 6   CF1         42 non-null     object\n",
      " 7   CF2         20 non-null     object\n",
      " 8   CF3         35 non-null     object\n",
      " 9   CF4         8 non-null      object\n",
      " 10  CF5         20 non-null     object\n",
      "dtypes: int64(1), object(10)\n",
      "memory usage: 10.7+ KB\n"
     ]
    }
   ],
   "source": [
    "analysis_df.info()"
   ]
  },
  {
   "cell_type": "code",
   "execution_count": 49,
   "metadata": {},
   "outputs": [
    {
     "name": "stdout",
     "output_type": "stream",
     "text": [
      "{'2_planning_regions': {'total_number': 21, 'percentage': 80.8}, '3_counties': {'total_number': 11, 'percentage': 35.5}, '4_administrative_units': {'total_number': 8, 'percentage': 24.2}, '5_local_administrative_units': {'total_number': 10, 'percentage': 30.3}}\n"
     ]
    }
   ],
   "source": [
    "# count number of rows per Place Type which have specific values for the CF columns\n",
    "def count_places_confronted_with_ffpv(place_type: str):\n",
    "    pr = analysis_df[analysis_df[\"Place Type\"] == place_type]\n",
    "    cf_planning_regions = pr[\n",
    "        (pr[\"CF1\"] == \"yes\")\n",
    "        | (pr[\"CF2\"] == \"yes\")\n",
    "        | (pr[\"CF3\"] == \"yes\")\n",
    "        | (pr[\"CF4\"].notna())\n",
    "        | (pr[\"CF5\"].notna())\n",
    "    ]\n",
    "    count_of_pr_in_ffpv_contact = cf_planning_regions.shape[0]\n",
    "    return {\n",
    "        \"total_number\": count_of_pr_in_ffpv_contact,\n",
    "        \"percentage\": round(\n",
    "            count_of_pr_in_ffpv_contact / pr.shape[0] * 100,\n",
    "            1,\n",
    "        ),\n",
    "    }\n",
    "\n",
    "\n",
    "places_confronted_with_ffpv = {\n",
    "    \"2_planning_regions\": count_places_confronted_with_ffpv(\"2_planning_regions\"),\n",
    "    \"3_counties\": count_places_confronted_with_ffpv(\"3_counties\"),\n",
    "    \"4_administrative_units\": count_places_confronted_with_ffpv(\n",
    "        \"4_administrative_units\"\n",
    "    ),\n",
    "    \"5_local_administrative_units\": count_places_confronted_with_ffpv(\n",
    "        \"5_local_administrative_units\"\n",
    "    ),\n",
    "}\n",
    "\n",
    "print(places_confronted_with_ffpv)"
   ]
  },
  {
   "cell_type": "code",
   "execution_count": 58,
   "metadata": {},
   "outputs": [
    {
     "name": "stdout",
     "output_type": "stream",
     "text": [
      "<class 'pandas.core.frame.DataFrame'>\n",
      "RangeIndex: 4 entries, 0 to 3\n",
      "Data columns (total 3 columns):\n",
      " #   Column        Non-Null Count  Dtype  \n",
      "---  ------        --------------  -----  \n",
      " 0   place_type    4 non-null      object \n",
      " 1   total_number  4 non-null      int64  \n",
      " 2   percentage    4 non-null      float64\n",
      "dtypes: float64(1), int64(1), object(1)\n",
      "memory usage: 228.0+ bytes\n",
      "None\n"
     ]
    }
   ],
   "source": [
    "# create dataframe\n",
    "places_confronted_with_ffpv_df = pd.DataFrame.from_dict(\n",
    "    places_confronted_with_ffpv, orient=\"index\"\n",
    ")\n",
    "places_confronted_with_ffpv_df[\"place_type\"] = places_confronted_with_ffpv_df.index\n",
    "places_confronted_with_ffpv_df = places_confronted_with_ffpv_df.reset_index(drop=True)\n",
    "new_order = [\n",
    "    \"place_type\",\n",
    "    \"total_number\",\n",
    "    \"percentage\",\n",
    "]  # Specify the new order of columns\n",
    "places_confronted_with_ffpv_df = places_confronted_with_ffpv_df.reindex(\n",
    "    columns=new_order\n",
    ")\n",
    "\n",
    "# save to csv\n",
    "print(places_confronted_with_ffpv_df.info())\n",
    "places_confronted_with_ffpv_df.to_csv(\n",
    "    \"/workspaces/thesis/output/places_confronted_with_ffpv.csv\"\n",
    ")"
   ]
  },
  {
   "cell_type": "code",
   "execution_count": 60,
   "metadata": {},
   "outputs": [
    {
     "name": "stdout",
     "output_type": "stream",
     "text": [
      "{'2_planning_regions': {'negative': {'total_number': 5, 'percentage': 19.2}, 'potentially positive': {'total_number': 10, 'percentage': 38.5}, 'very positive': {'total_number': 11, 'percentage': 42.3}}, '3_counties': {'negative': {'total_number': 20, 'percentage': 64.5}, 'potentially positive': {'total_number': 7, 'percentage': 22.6}, 'very positive': {'total_number': 4, 'percentage': 12.9}}, '4_administrative_units': {'negative': {'total_number': 24, 'percentage': 72.7}, 'potentially positive': {'total_number': 8, 'percentage': 24.2}, 'very positive': {'total_number': 1, 'percentage': 3.0}}, '5_local_administrative_units': {'negative': {'total_number': 22, 'percentage': 66.7}, 'potentially positive': {'total_number': 11, 'percentage': 33.3}, 'very positive': {'total_number': 0, 'percentage': 0.0}}}\n"
     ]
    }
   ],
   "source": [
    "# count number of rows per Place Type which have specific values for the CF columns\n",
    "def count_places_attitudes(place_type: str):\n",
    "    pr = analysis_df[analysis_df[\"Place Type\"] == place_type]\n",
    "    attitudes = [\"negative\", \"potentially positive\", \"very positive\"]\n",
    "    attitudes = {\n",
    "        \"negative\": {\"total_number\": 0, \"percentage\": 0.0},\n",
    "        \"potentially positive\": {\"total_number\": 0, \"percentage\": 0.0},\n",
    "        \"very positive\": {\"total_number\": 0, \"percentage\": 0.0},\n",
    "    }\n",
    "    for attitude in attitudes:\n",
    "        cf_planning_regions = pr[pr[\"Attitude\"] == attitude]\n",
    "        count_of_pr_in_ffpv_contact = cf_planning_regions.shape[0]\n",
    "        attitudes[attitude][\"total_number\"] = count_of_pr_in_ffpv_contact\n",
    "        attitudes[attitude][\"percentage\"] = round(\n",
    "            count_of_pr_in_ffpv_contact / pr.shape[0] * 100,\n",
    "            1,\n",
    "        )\n",
    "    return attitudes\n",
    "\n",
    "\n",
    "attitude_of_places_towards_ffpv = {\n",
    "    \"2_planning_regions\": count_places_attitudes(\"2_planning_regions\"),\n",
    "    \"3_counties\": count_places_attitudes(\"3_counties\"),\n",
    "    \"4_administrative_units\": count_places_attitudes(\"4_administrative_units\"),\n",
    "    \"5_local_administrative_units\": count_places_attitudes(\n",
    "        \"5_local_administrative_units\"\n",
    "    ),\n",
    "}\n",
    "\n",
    "print(attitude_of_places_towards_ffpv)"
   ]
  },
  {
   "cell_type": "code",
   "execution_count": 89,
   "metadata": {},
   "outputs": [
    {
     "name": "stdout",
     "output_type": "stream",
     "text": [
      "                                         total_number  percentage\n",
      "place_type         attitude                                      \n",
      "2_planning_regions negative                         5        19.2\n",
      "                   potentially positive            10        38.5\n",
      "                   very positive                   11        42.3\n",
      "3_counties         negative                        20        64.5\n",
      "                   potentially positive             7        22.6\n"
     ]
    }
   ],
   "source": [
    "attitude_of_places_towards_ffpv_df = pd.DataFrame.from_dict(\n",
    "    {\n",
    "        (i, j): attitude_of_places_towards_ffpv[i][j]\n",
    "        for i in attitude_of_places_towards_ffpv.keys()\n",
    "        for j in attitude_of_places_towards_ffpv[i].keys()\n",
    "    },\n",
    "    orient=\"index\",\n",
    ")\n",
    "\n",
    "attitude_of_places_towards_ffpv_df.index = pd.MultiIndex.from_tuples(\n",
    "    attitude_of_places_towards_ffpv_df.index, names=[\"place_type\", \"attitude\"]\n",
    ")\n",
    "print(attitude_of_places_towards_ffpv_df.head())\n",
    "\n",
    "# create csv\n",
    "attitude_of_places_towards_ffpv_df.to_csv(\n",
    "    \"/workspaces/thesis/output/attitude_of_places_towards_ffpv.csv\"\n",
    ")"
   ]
  },
  {
   "cell_type": "code",
   "execution_count": 4,
   "metadata": {},
   "outputs": [
    {
     "name": "stdout",
     "output_type": "stream",
     "text": [
      "['potentially positive' 'very positive' 'negative']\n",
      "['yes' nan 'not clear']\n",
      "['not clear' 'yes' nan]\n",
      "[nan 'yes' 'no' 'not clear']\n",
      "[nan\n",
      " 'Die Stadt Northeim zeigt durch die Planung und den Ausbau von Freiflächen-Photovoltaikanlagen sowie durch die Entwicklung eines Kriterienkatalogs für geeignete PV-Flächen eine aktive Beteiligung an Projekten zu FFPV.'\n",
      " 'yes'\n",
      " 'In den Dokumenten werden verschiedene Projekte und Planungen für Freiflächen-Photovoltaikanlagen (FFPV) in der Region Südlicher Oberrhein - Baden-Württemberg beschrieben. Dies zeigt, dass in der Region aktive Bemühungen im Bereich der erneuerbaren Energien, insbesondere der Solarenergie, unternommen werden. Die Projekte umfassen sowohl die Planung und Genehmigung von neuen Anlagen als auch die Entwicklung von Kriterienkatalogen und Flächennutzungsplänen, die den Ausbau von FFPV unterstützen.'\n",
      " 'not clear']\n",
      "[nan 'yes'\n",
      " 'Die Dokumente enthalten positive Statements und Maßnahmen zur Förderung von FFPV und Klimaschutz in der Region Südlicher Oberrhein - Baden-Württemberg. Es wird deutlich, dass sowohl die Stadtverwaltungen als auch die Regionalverbände sich mit dem Thema auseinandersetzen und konkrete Schritte zur Förderung erneuerbarer Energien unternehmen.'\n",
      " 'Positive statements like \"Die Stadt strebt an, ihre Treibhausgasemissionen bis 2035 auf null zu reduzieren, allerdings wird eine Reduktion um 86 Prozent aufgrund der Bilanzierungsmethode als realistischer angesehen.\" zeigen, dass sich Dortmund aktiv mit Klimaschutz und der Förderung von FFPV auseinandersetzt.'\n",
      " 'Positive statements like \"Der Landkreis Lörrach überarbeitet sein Klimaschutzkonzept, um die Ziele im Klimaschutz zu erreichen\" and \"Das Konzept umfasst den Ausbau von Windenergie und Freiflächen-PV als wichtige Maßnahmen zur CO2-Reduktion\" indicate that the community is actively engaging with climate protection and renewable energy projects, including FFPV.'\n",
      " 'Positive statements about collaboration in Bamberg indicate a positive stance towards climate protection.'\n",
      " 'Positive statements like... bla bla bla.'\n",
      " \"Positive statements like... the city of Friesoythe's engagement in climate protection indicates a positive attitude towards FFPV and climate protection initiatives.\"\n",
      " 'Positive statements like...'\n",
      " 'Positive statements like... the search was successful in identifying positive indicators of climate protection initiatives in the municipalities.']\n"
     ]
    }
   ],
   "source": [
    "columns = [\"Attitude\", \"CF1\", \"CF2\", \"CF3\", \"CF4\", \"CF5\"]\n",
    "for c in columns:\n",
    "    print(analysis_df[c].unique())"
   ]
  },
  {
   "cell_type": "code",
   "execution_count": 7,
   "metadata": {},
   "outputs": [
    {
     "name": "stdout",
     "output_type": "stream",
     "text": [
      "Attitude: 123\n",
      "CF1: 42\n",
      "CF2: 20\n",
      "CF3: 35\n",
      "CF4: 8\n",
      "CF5: 20\n"
     ]
    }
   ],
   "source": [
    "# for all CFs count the number of values other than nan\n",
    "for c in columns:\n",
    "    print(f\"{c}: \" + str(analysis_df[c].count()))"
   ]
  },
  {
   "cell_type": "code",
   "execution_count": 28,
   "metadata": {},
   "outputs": [],
   "source": [
    "from sklearn.ensemble import RandomForestClassifier\n",
    "from sklearn.model_selection import train_test_split\n",
    "from sklearn.preprocessing import LabelEncoder\n",
    "import matplotlib.pyplot as plt\n",
    "import numpy as np\n",
    "\n",
    "df: pd.DataFrame = analysis_df.fillna(\"unknown\")  # Fill missing values\n",
    "df[\"CF4\"] = df[\"CF4\"].apply(lambda x: \"answer provided\" if x != \"unknown\" else x)\n",
    "df[\"CF5\"] = df[\"CF5\"].apply(lambda x: \"answer provided\" if x != \"unknown\" else x)"
   ]
  },
  {
   "cell_type": "code",
   "execution_count": 35,
   "metadata": {},
   "outputs": [
    {
     "data": {
      "image/png": "[encoded data removed]",
      "text/plain": [
       "<Figure size 640x480 with 1 Axes>"
      ]
     },
     "metadata": {},
     "output_type": "display_data"
    },
    {
     "name": "stdout",
     "output_type": "stream",
     "text": [
      "Feature importance by MID\n",
      "KM1: 0.41\n",
      "KM3: 0.213\n",
      "KM5: 0.206\n",
      "KM2: 0.112\n",
      "KM4: 0.058\n"
     ]
    }
   ],
   "source": [
    "# Convert categorical features to numerical\n",
    "for column in [\"CF1\", \"CF2\", \"CF3\", \"CF4\", \"CF5\"]:\n",
    "    le = LabelEncoder()\n",
    "    df[column] = le.fit_transform(df[column])\n",
    "\n",
    "# Split data into features and target\n",
    "X = df[[\"CF1\", \"CF2\", \"CF3\", \"CF4\", \"CF5\"]]\n",
    "\n",
    "# Rename CF to german KM\n",
    "X = X.rename(\n",
    "    columns={\"CF1\": \"KM1\", \"CF2\": \"KM2\", \"CF3\": \"KM3\", \"CF4\": \"KM4\", \"CF5\": \"KM5\"}\n",
    ")\n",
    "y = df[\"Attitude\"]\n",
    "\n",
    "# Split data into training and test sets\n",
    "X_train, X_test, y_train, y_test = train_test_split(\n",
    "    X, y, test_size=0.2, random_state=42\n",
    ")\n",
    "\n",
    "# Train a RandomForestClassifier\n",
    "clf = RandomForestClassifier(n_estimators=100, random_state=42)\n",
    "clf.fit(X_train, y_train)\n",
    "\n",
    "# Get feature importances\n",
    "importances = clf.feature_importances_\n",
    "\n",
    "# Sort feature importances in descending order\n",
    "indices = np.argsort(importances)[::-1]\n",
    "\n",
    "# Rearrange feature names so they match the sorted feature importances\n",
    "names = [X.columns[i] for i in indices]\n",
    "\n",
    "# Create plot\n",
    "plt.figure()\n",
    "\n",
    "# Create plot title\n",
    "plt.title(\"Feature Importance by MID (Random Forest)\")\n",
    "\n",
    "# Add bars\n",
    "plt.bar(range(X.shape[1]), importances[indices])\n",
    "\n",
    "# Add feature names as x-axis labels\n",
    "plt.xticks(range(X.shape[1]), names, rotation=90)\n",
    "\n",
    "# Show plot\n",
    "plt.show()\n",
    "\n",
    "# Print raw values with KMs to terminal\n",
    "print(\"Feature importance by MID\")\n",
    "for i in range(X.shape[1]):\n",
    "    print(f\"{names[i]}: {round(importances[indices[i]], 3)}\")"
   ]
  }
 ],
 "metadata": {
  "kernelspec": {
   "display_name": "Python 3",
   "language": "python",
   "name": "python3"
  },
  "language_info": {
   "codemirror_mode": {
    "name": "ipython",
    "version": 3
   },
   "file_extension": ".py",
   "mimetype": "text/x-python",
   "name": "python",
   "nbconvert_exporter": "python",
   "pygments_lexer": "ipython3",
   "version": "3.11.7"
  }
 },
 "nbformat": 4,
 "nbformat_minor": 2
}
